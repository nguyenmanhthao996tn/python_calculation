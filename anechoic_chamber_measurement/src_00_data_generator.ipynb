{
 "cells": [
  {
   "cell_type": "code",
   "execution_count": 1,
   "id": "96a50c0a-99a8-4ab2-8c7f-16c0fb9bcd94",
   "metadata": {},
   "outputs": [],
   "source": [
    "# ===== Include all needed libraries / packages =====\n",
    "\n",
    "\n",
    "import os\n",
    "import pandas as pd\n",
    "import numpy as np"
   ]
  },
  {
   "cell_type": "code",
   "execution_count": 2,
   "id": "9b0e6cf2-c909-4123-acf2-2ea9d052d42e",
   "metadata": {},
   "outputs": [],
   "source": [
    "# Check / Create needed folder structure\n",
    "\n",
    "\n",
    "list_folder_structure = [\n",
    "    \"output_csv_data\",\n",
    "    \"output_plot/axial_ratio_theta_vs_phi\",\n",
    "    \"output_plot/axial_ratio_theta_vs_freq\",\n",
    "    \"output_plot/gain_total_theta_vs_phi\",\n",
    "    \"output_plot/gain_total_theta_vs_freq\",\n",
    "    \"output_plot/gain_lhcp_theta_vs_phi\",\n",
    "    \"output_plot/gain_lhcp_theta_vs_freq\",\n",
    "    \"output_plot/gain_rhcp_theta_vs_phi\",\n",
    "    \"output_plot/gain_rhcp_theta_vs_freq\"\n",
    "]\n",
    "\n",
    "for directory_path in list_folder_structure:\n",
    "    if not os.path.exists(directory_path):\n",
    "        os.makedirs(directory_path)"
   ]
  },
  {
   "cell_type": "code",
   "execution_count": 3,
   "id": "24fcf720-b33b-43e1-b0df-08a69540842b",
   "metadata": {},
   "outputs": [],
   "source": [
    "# ===== Create list of frequencies & dataframes from csv files =====\n",
    "\n",
    "\n",
    "# Specify the directory where the CSV files are\n",
    "directory = './input_csv_data/'\n",
    "\n",
    "# Specify a list of all CSV filenames in the directory\n",
    "csv_files = [\n",
    "        '4panneaux-R-corr-CL-circ-norme_0.139000GHz.csv',\n",
    "        '4panneaux-R-corr-CL-circ-norme_0.140000GHz.csv',\n",
    "        '4panneaux-R-corr-CL-circ-norme_0.141000GHz.csv',\n",
    "        '4panneaux-R-corr-CL-circ-norme_0.142000GHz.csv',\n",
    "        '4panneaux-R-corr-CL-circ-norme_0.143000GHz.csv',\n",
    "        '4panneaux-R-corr-CL-circ-norme_0.144000GHz.csv',\n",
    "        '4panneaux-R-corr-CL-circ-norme_0.145000GHz.csv'\n",
    "    ]\n",
    "\n",
    "# Create a list of frequencies (int)\n",
    "list_of_freq_mhz = np.arange(139, 146)\n",
    "\n",
    "# Create a list of DataFrames\n",
    "list_of_dfs = [pd.read_csv(os.path.join(directory, f)) for f in csv_files]\n"
   ]
  },
  {
   "cell_type": "code",
   "execution_count": 4,
   "id": "3fc1b56a-c43b-4515-8cc4-c9cca6d38cf9",
   "metadata": {},
   "outputs": [],
   "source": [
    "# ===== Calculate Weight =====\n",
    "\n",
    "\n",
    "for df in list_of_dfs:\n",
    "    df[\"Weight\"] = np.abs(np.sin(np.radians(df.Theta)))"
   ]
  },
  {
   "cell_type": "code",
   "execution_count": 5,
   "id": "1b5fc347-e1d5-4510-891f-197a2dc5b870",
   "metadata": {},
   "outputs": [],
   "source": [
    "# ===== Calculate Linear Gain for RHCP / LHCP =====\n",
    "\n",
    "\n",
    "for df in list_of_dfs:\n",
    "    df[\"Gain_RHCP_Linear\"] = 10 ** (df.Gain_RHCP/10)\n",
    "    df[\"Gain_LHCP_Linear\"] = 10 ** (df.Gain_LHCP/10)\n",
    "    \n",
    "    df[\"Gain_LHCP_Weight\"] = df.Gain_LHCP * df.Weight\n",
    "    df[\"Gain_RHCP_Weight\"] = df.Gain_RHCP * df.Weight"
   ]
  },
  {
   "cell_type": "code",
   "execution_count": 6,
   "id": "59cd4e1c-9e2e-4b99-b48f-8a87f85e5fd4",
   "metadata": {},
   "outputs": [],
   "source": [
    "# ===== Calculate Axial Ratio =====\n",
    "\n",
    "\n",
    "for df in list_of_dfs:\n",
    "    gain_rhcp_linear_tmp_for_efield_axial_ratio = 10 ** (df.Gain_RHCP/20)\n",
    "    gain_lhcp_linear_tmp_for_efield_axial_ratio = 10 ** (df.Gain_LHCP/20)\n",
    "    df[\"Axial_Ratio_Linear\"] = abs(gain_rhcp_linear_tmp_for_efield_axial_ratio + gain_lhcp_linear_tmp_for_efield_axial_ratio)/abs(gain_rhcp_linear_tmp_for_efield_axial_ratio - gain_lhcp_linear_tmp_for_efield_axial_ratio)\n",
    "    df[\"Axial_Ratio\"] = 10 * np.log10(df.Axial_Ratio_Linear)\n",
    "    df[\"Axial_Ratio_Weight\"] = df.Axial_Ratio * df.Weight"
   ]
  },
  {
   "cell_type": "code",
   "execution_count": 7,
   "id": "952af1e7-8947-4678-9819-8566c3449fc2",
   "metadata": {},
   "outputs": [],
   "source": [
    "# ===== Calculate Total Gain =====\n",
    "\n",
    "\n",
    "for df in list_of_dfs:\n",
    "    df[\"Gain_Total_Linear\"] = abs(df.Gain_RHCP_Linear + df.Gain_LHCP_Linear)\n",
    "    df[\"Gain_Total\"] = 10 * np.log10(df.Gain_Total_Linear)\n",
    "    df[\"Gain_Total_Linear_Weight\"] = df.Gain_Total_Linear * df.Weight\n",
    "    df[\"Gain_Total_Weight\"] = df.Gain_Total * df.Weight"
   ]
  },
  {
   "cell_type": "code",
   "execution_count": 8,
   "id": "2484aafb-bfe9-48a6-9ada-626e673849ca",
   "metadata": {},
   "outputs": [],
   "source": [
    "# ===== Calculate Total Gain (with offset from Phaseshifter) =====\n",
    "\n",
    "\n",
    "ps_offset_db = 2.4\n",
    "\n",
    "for df in list_of_dfs:\n",
    "    df[\"Gain_Total_Offset\"] = df.Gain_Total + ps_offset_db\n",
    "    df[\"Gain_Total_Offset_Linear\"] = 10 ** (df.Gain_Total_Offset / 10)\n",
    "    df[\"Gain_Total_Offset_Linear_Weight\"] = df.Gain_Total_Offset_Linear * df.Weight\n",
    "    df[\"Gain_Total_Offset_Weight\"] = df.Gain_Total_Offset * df.Weight"
   ]
  },
  {
   "cell_type": "code",
   "execution_count": 9,
   "id": "ebe0df62-fa70-40fc-89cd-9fba98076ddc",
   "metadata": {},
   "outputs": [],
   "source": [
    "# ===== Export to csv files with new data =====\n",
    "\n",
    "\n",
    "for index, df in enumerate(list_of_dfs):\n",
    "    file_path = 'output_csv_data/data_' + str(list_of_freq_mhz[index]) + 'mhz.csv'\n",
    "    df.to_csv(file_path, index=False)"
   ]
  },
  {
   "cell_type": "code",
   "execution_count": 10,
   "id": "0a4bc69e-0ebd-4ee2-92f0-0ceaa508fb5f",
   "metadata": {},
   "outputs": [
    {
     "name": "stdout",
     "output_type": "stream",
     "text": [
      "Done\n"
     ]
    }
   ],
   "source": [
    "print(\"Done\")"
   ]
  }
 ],
 "metadata": {
  "kernelspec": {
   "display_name": "Python 3 (ipykernel)",
   "language": "python",
   "name": "python3"
  },
  "language_info": {
   "codemirror_mode": {
    "name": "ipython",
    "version": 3
   },
   "file_extension": ".py",
   "mimetype": "text/x-python",
   "name": "python",
   "nbconvert_exporter": "python",
   "pygments_lexer": "ipython3",
   "version": "3.11.9"
  }
 },
 "nbformat": 4,
 "nbformat_minor": 5
}
